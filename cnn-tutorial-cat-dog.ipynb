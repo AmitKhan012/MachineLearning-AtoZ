{
 "cells": [
  {
   "cell_type": "markdown",
   "metadata": {},
   "source": [
    "# Part 1: Building the CNN\n"
   ]
  },
  {
   "cell_type": "markdown",
   "metadata": {},
   "source": [
    "Importing the Keras libraries and packages"
   ]
  },
  {
   "cell_type": "code",
   "execution_count": 27,
   "metadata": {},
   "outputs": [],
   "source": [
    "from keras.models import Sequential\n",
    "#from keras.layers import Convolution2D\n",
    "from keras.layers import Conv2D\n",
    "from keras.layers import MaxPooling2D\n",
    "from keras.layers import Flatten\n",
    "from keras.layers import Dense"
   ]
  },
  {
   "cell_type": "markdown",
   "metadata": {},
   "source": [
    "# Initialising the CNN"
   ]
  },
  {
   "cell_type": "code",
   "execution_count": 28,
   "metadata": {},
   "outputs": [],
   "source": [
    "classifier = Sequential()"
   ]
  },
  {
   "cell_type": "markdown",
   "metadata": {},
   "source": [
    "# Step 1 - Convolution"
   ]
  },
  {
   "cell_type": "code",
   "execution_count": 29,
   "metadata": {},
   "outputs": [],
   "source": [
    "#classifier.add(Convolution2D(32, 3, 3, input_shape = (64, 64, 3), activation = 'relu'))\n",
    "classifier.add(Conv2D(32,( 3, 3), input_shape = (64, 64, 3), activation = 'relu'))"
   ]
  },
  {
   "cell_type": "markdown",
   "metadata": {},
   "source": [
    "# Step 2 - Pooling"
   ]
  },
  {
   "cell_type": "code",
   "execution_count": 30,
   "metadata": {},
   "outputs": [],
   "source": [
    "classifier.add(MaxPooling2D(pool_size = (2, 2)))"
   ]
  },
  {
   "cell_type": "markdown",
   "metadata": {},
   "source": [
    "# Adding a second convolution layer"
   ]
  },
  {
   "cell_type": "code",
   "execution_count": 31,
   "metadata": {},
   "outputs": [],
   "source": [
    "classifier.add(Conv2D(32,( 3, 3), activation = 'relu'))\n",
    "classifier.add(MaxPooling2D(pool_size = (2, 2)))"
   ]
  },
  {
   "cell_type": "markdown",
   "metadata": {},
   "source": [
    "# Step 3 - Flattening"
   ]
  },
  {
   "cell_type": "code",
   "execution_count": 32,
   "metadata": {},
   "outputs": [],
   "source": [
    "classifier.add(Flatten())"
   ]
  },
  {
   "cell_type": "markdown",
   "metadata": {},
   "source": [
    "Step 4 - Full connection"
   ]
  },
  {
   "cell_type": "code",
   "execution_count": 33,
   "metadata": {},
   "outputs": [],
   "source": [
    "classifier.add(Dense(activation = 'relu', units = 128))\n",
    "classifier.add(Dense(activation = 'sigmoid', units = 1))"
   ]
  },
  {
   "cell_type": "markdown",
   "metadata": {},
   "source": [
    "# Compiling the CNN"
   ]
  },
  {
   "cell_type": "code",
   "execution_count": 34,
   "metadata": {},
   "outputs": [],
   "source": [
    "classifier.compile(optimizer = 'adam', loss = 'binary_crossentropy', metrics = ['accuracy'])"
   ]
  },
  {
   "cell_type": "markdown",
   "metadata": {},
   "source": [
    "# Part 2 - Fitting the CNN to the images"
   ]
  },
  {
   "cell_type": "code",
   "execution_count": 35,
   "metadata": {},
   "outputs": [],
   "source": [
    "from keras.preprocessing.image import ImageDataGenerator"
   ]
  },
  {
   "cell_type": "code",
   "execution_count": 36,
   "metadata": {},
   "outputs": [],
   "source": [
    "train_datagen = ImageDataGenerator(\n",
    "                rescale = 1./255,\n",
    "                shear_range = 0.2,\n",
    "                zoom_range = 0.2,\n",
    "                horizontal_flip = True)"
   ]
  },
  {
   "cell_type": "code",
   "execution_count": 37,
   "metadata": {},
   "outputs": [],
   "source": [
    "test_datagen = ImageDataGenerator(rescale = 1./255)"
   ]
  },
  {
   "cell_type": "code",
   "execution_count": 38,
   "metadata": {},
   "outputs": [
    {
     "name": "stdout",
     "output_type": "stream",
     "text": [
      "Found 8000 images belonging to 2 classes.\n"
     ]
    }
   ],
   "source": [
    "training_set = train_datagen.flow_from_directory('dataset/training_set',\n",
    "                                                 target_size = (64, 64),\n",
    "                                                 batch_size = 32,\n",
    "                                                 class_mode = 'binary')"
   ]
  },
  {
   "cell_type": "code",
   "execution_count": 39,
   "metadata": {},
   "outputs": [
    {
     "name": "stdout",
     "output_type": "stream",
     "text": [
      "Found 2000 images belonging to 2 classes.\n"
     ]
    }
   ],
   "source": [
    "test_set = test_datagen.flow_from_directory('dataset/test_set',\n",
    "                                            target_size = (64, 64),\n",
    "                                            batch_size = 32,\n",
    "                                            class_mode = 'binary')"
   ]
  },
  {
   "cell_type": "code",
   "execution_count": 40,
   "metadata": {},
   "outputs": [
    {
     "name": "stderr",
     "output_type": "stream",
     "text": [
      "C:\\Users\\Amit\\Anaconda3\\lib\\site-packages\\ipykernel_launcher.py:5: UserWarning: The semantics of the Keras 2 argument `steps_per_epoch` is not the same as the Keras 1 argument `samples_per_epoch`. `steps_per_epoch` is the number of batches to draw from the generator at each epoch. Basically steps_per_epoch = samples_per_epoch/batch_size. Similarly `nb_val_samples`->`validation_steps` and `val_samples`->`steps` arguments have changed. Update your method calls accordingly.\n",
      "  \"\"\"\n",
      "C:\\Users\\Amit\\Anaconda3\\lib\\site-packages\\ipykernel_launcher.py:5: UserWarning: Update your `fit_generator` call to the Keras 2 API: `fit_generator(<keras.pre..., steps_per_epoch=250, validation_data=<keras.pre..., validation_steps=63, epochs=25)`\n",
      "  \"\"\"\n"
     ]
    },
    {
     "name": "stdout",
     "output_type": "stream",
     "text": [
      "Epoch 1/25\n",
      "250/250 [==============================] - 30s 121ms/step - loss: 0.6858 - accuracy: 0.5576 - val_loss: 0.6721 - val_accuracy: 0.5995\n",
      "Epoch 2/25\n",
      "250/250 [==============================] - 30s 119ms/step - loss: 0.6552 - accuracy: 0.6143 - val_loss: 0.4934 - val_accuracy: 0.6430\n",
      "Epoch 3/25\n",
      "250/250 [==============================] - 30s 120ms/step - loss: 0.6146 - accuracy: 0.6594 - val_loss: 0.5716 - val_accuracy: 0.6800\n",
      "Epoch 4/25\n",
      "250/250 [==============================] - 29s 117ms/step - loss: 0.5934 - accuracy: 0.6811 - val_loss: 0.5873 - val_accuracy: 0.7045\n",
      "Epoch 5/25\n",
      "250/250 [==============================] - 29s 116ms/step - loss: 0.5656 - accuracy: 0.7031 - val_loss: 0.5140 - val_accuracy: 0.7010\n",
      "Epoch 6/25\n",
      "250/250 [==============================] - 29s 118ms/step - loss: 0.5507 - accuracy: 0.7140 - val_loss: 0.5228 - val_accuracy: 0.7390\n",
      "Epoch 7/25\n",
      "250/250 [==============================] - 29s 116ms/step - loss: 0.5259 - accuracy: 0.7329 - val_loss: 0.4302 - val_accuracy: 0.7520\n",
      "Epoch 8/25\n",
      "250/250 [==============================] - 30s 119ms/step - loss: 0.5057 - accuracy: 0.7496 - val_loss: 0.5979 - val_accuracy: 0.7345\n",
      "Epoch 9/25\n",
      "250/250 [==============================] - 30s 118ms/step - loss: 0.4944 - accuracy: 0.7571 - val_loss: 0.5483 - val_accuracy: 0.7710\n",
      "Epoch 10/25\n",
      "250/250 [==============================] - 29s 117ms/step - loss: 0.4789 - accuracy: 0.7661 - val_loss: 0.5729 - val_accuracy: 0.7665\n",
      "Epoch 11/25\n",
      "250/250 [==============================] - 32s 128ms/step - loss: 0.4581 - accuracy: 0.7844 - val_loss: 0.6088 - val_accuracy: 0.7605\n",
      "Epoch 12/25\n",
      "250/250 [==============================] - 31s 126ms/step - loss: 0.4413 - accuracy: 0.7900 - val_loss: 0.5056 - val_accuracy: 0.7505\n",
      "Epoch 13/25\n",
      "250/250 [==============================] - 30s 120ms/step - loss: 0.4302 - accuracy: 0.8033 - val_loss: 0.9105 - val_accuracy: 0.7725\n",
      "Epoch 14/25\n",
      "250/250 [==============================] - 30s 121ms/step - loss: 0.4094 - accuracy: 0.8110 - val_loss: 0.4119 - val_accuracy: 0.7485\n",
      "Epoch 15/25\n",
      "250/250 [==============================] - 30s 121ms/step - loss: 0.3908 - accuracy: 0.8221 - val_loss: 0.7115 - val_accuracy: 0.7850\n",
      "Epoch 16/25\n",
      "250/250 [==============================] - 30s 120ms/step - loss: 0.3773 - accuracy: 0.8319 - val_loss: 0.4364 - val_accuracy: 0.7790\n",
      "Epoch 17/25\n",
      "250/250 [==============================] - 30s 121ms/step - loss: 0.3727 - accuracy: 0.8363 - val_loss: 0.4332 - val_accuracy: 0.7850\n",
      "Epoch 18/25\n",
      "250/250 [==============================] - 30s 119ms/step - loss: 0.3523 - accuracy: 0.8420 - val_loss: 0.3279 - val_accuracy: 0.7985\n",
      "Epoch 19/25\n",
      "250/250 [==============================] - 30s 119ms/step - loss: 0.3256 - accuracy: 0.8541 - val_loss: 0.2304 - val_accuracy: 0.7945\n",
      "Epoch 20/25\n",
      "250/250 [==============================] - 29s 118ms/step - loss: 0.3077 - accuracy: 0.8612 - val_loss: 0.5706 - val_accuracy: 0.7900\n",
      "Epoch 21/25\n",
      "250/250 [==============================] - 30s 120ms/step - loss: 0.2961 - accuracy: 0.8776 - val_loss: 0.4373 - val_accuracy: 0.7860\n",
      "Epoch 22/25\n",
      "250/250 [==============================] - 30s 120ms/step - loss: 0.2847 - accuracy: 0.8811 - val_loss: 0.3810 - val_accuracy: 0.8020\n",
      "Epoch 23/25\n",
      "250/250 [==============================] - 30s 119ms/step - loss: 0.2735 - accuracy: 0.8848 - val_loss: 0.6238 - val_accuracy: 0.7960\n",
      "Epoch 24/25\n",
      "250/250 [==============================] - 29s 118ms/step - loss: 0.2690 - accuracy: 0.8831 - val_loss: 1.4711 - val_accuracy: 0.7910\n",
      "Epoch 25/25\n",
      "250/250 [==============================] - 30s 121ms/step - loss: 0.2387 - accuracy: 0.9003 - val_loss: 0.4044 - val_accuracy: 0.7920\n"
     ]
    },
    {
     "data": {
      "text/plain": [
       "<keras.callbacks.callbacks.History at 0x25115d620b8>"
      ]
     },
     "execution_count": 40,
     "metadata": {},
     "output_type": "execute_result"
    }
   ],
   "source": [
    "classifier.fit_generator(training_set,\n",
    "                         steps_per_epoch = 250,\n",
    "                         nb_epoch = 25,\n",
    "                         validation_data = test_set,\n",
    "                         validation_steps = 63)"
   ]
  },
  {
   "cell_type": "code",
   "execution_count": null,
   "metadata": {},
   "outputs": [],
   "source": []
  }
 ],
 "metadata": {
  "kernelspec": {
   "display_name": "Python 3",
   "language": "python",
   "name": "python3"
  },
  "language_info": {
   "codemirror_mode": {
    "name": "ipython",
    "version": 3
   },
   "file_extension": ".py",
   "mimetype": "text/x-python",
   "name": "python",
   "nbconvert_exporter": "python",
   "pygments_lexer": "ipython3",
   "version": "3.7.3"
  }
 },
 "nbformat": 4,
 "nbformat_minor": 2
}
