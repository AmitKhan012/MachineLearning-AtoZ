{
 "cells": [
  {
   "cell_type": "code",
   "execution_count": 1,
   "metadata": {},
   "outputs": [
    {
     "name": "stderr",
     "output_type": "stream",
     "text": [
      "Using TensorFlow backend.\n"
     ]
    }
   ],
   "source": [
    "from keras.models import Sequential\n",
    "#from keras.layers import Convolution2D\n",
    "from keras.layers import Conv2D\n",
    "from keras.layers import MaxPooling2D\n",
    "from keras.layers import Flatten\n",
    "from keras.layers import Dense"
   ]
  },
  {
   "cell_type": "code",
   "execution_count": 2,
   "metadata": {},
   "outputs": [],
   "source": [
    "classifier = Sequential()"
   ]
  },
  {
   "cell_type": "code",
   "execution_count": 3,
   "metadata": {},
   "outputs": [],
   "source": [
    "#classifier.add(Convolution2D(32, 3, 3, input_shape = (64, 64, 3), activation = 'relu'))\n",
    "classifier.add(Conv2D(32,( 3, 3), input_shape = (64, 64, 3), activation = 'relu'))"
   ]
  },
  {
   "cell_type": "code",
   "execution_count": 4,
   "metadata": {},
   "outputs": [
    {
     "name": "stdout",
     "output_type": "stream",
     "text": [
      "WARNING:tensorflow:From C:\\Users\\Amit\\Anaconda3\\lib\\site-packages\\keras\\backend\\tensorflow_backend.py:4070: The name tf.nn.max_pool is deprecated. Please use tf.nn.max_pool2d instead.\n",
      "\n"
     ]
    }
   ],
   "source": [
    "classifier.add(MaxPooling2D(pool_size = (2, 2)))"
   ]
  },
  {
   "cell_type": "code",
   "execution_count": 5,
   "metadata": {},
   "outputs": [],
   "source": [
    "classifier.add(Conv2D(32,( 3, 3), activation = 'relu'))\n",
    "classifier.add(MaxPooling2D(pool_size = (2, 2)))"
   ]
  },
  {
   "cell_type": "code",
   "execution_count": 6,
   "metadata": {},
   "outputs": [],
   "source": [
    "classifier.add(Flatten())"
   ]
  },
  {
   "cell_type": "code",
   "execution_count": 7,
   "metadata": {},
   "outputs": [],
   "source": [
    "classifier.add(Dense(activation = 'relu', units = 128))\n",
    "classifier.add(Dense(activation = 'sigmoid', units = 1))"
   ]
  },
  {
   "cell_type": "code",
   "execution_count": 8,
   "metadata": {},
   "outputs": [
    {
     "name": "stdout",
     "output_type": "stream",
     "text": [
      "WARNING:tensorflow:From C:\\Users\\Amit\\Anaconda3\\lib\\site-packages\\tensorflow\\python\\ops\\nn_impl.py:180: add_dispatch_support.<locals>.wrapper (from tensorflow.python.ops.array_ops) is deprecated and will be removed in a future version.\n",
      "Instructions for updating:\n",
      "Use tf.where in 2.0, which has the same broadcast rule as np.where\n"
     ]
    }
   ],
   "source": [
    "classifier.compile(optimizer = 'adam', loss = 'binary_crossentropy', metrics = ['accuracy'])"
   ]
  },
  {
   "cell_type": "code",
   "execution_count": 9,
   "metadata": {},
   "outputs": [],
   "source": [
    "from keras.preprocessing.image import ImageDataGenerator"
   ]
  },
  {
   "cell_type": "code",
   "execution_count": 10,
   "metadata": {},
   "outputs": [],
   "source": [
    "train_datagen = ImageDataGenerator(\n",
    "                rescale = 1./255,\n",
    "                shear_range = 0.2,\n",
    "                zoom_range = 0.2,\n",
    "                horizontal_flip = True)"
   ]
  },
  {
   "cell_type": "code",
   "execution_count": 11,
   "metadata": {},
   "outputs": [],
   "source": [
    "test_datagen = ImageDataGenerator(rescale = 1./255)"
   ]
  },
  {
   "cell_type": "code",
   "execution_count": 12,
   "metadata": {},
   "outputs": [
    {
     "name": "stdout",
     "output_type": "stream",
     "text": [
      "Found 27558 images belonging to 2 classes.\n"
     ]
    }
   ],
   "source": [
    "training_set = train_datagen.flow_from_directory('dataset3/training_set',\n",
    "                                                 target_size = (64, 64),\n",
    "                                                 batch_size = 32,\n",
    "                                                 class_mode = 'binary')"
   ]
  },
  {
   "cell_type": "code",
   "execution_count": 13,
   "metadata": {},
   "outputs": [
    {
     "name": "stdout",
     "output_type": "stream",
     "text": [
      "Found 27558 images belonging to 2 classes.\n"
     ]
    }
   ],
   "source": [
    "test_set = test_datagen.flow_from_directory('dataset3/test_set',\n",
    "                                            target_size = (64, 64),\n",
    "                                            batch_size = 32,\n",
    "                                            class_mode = 'binary')"
   ]
  },
  {
   "cell_type": "code",
   "execution_count": 14,
   "metadata": {},
   "outputs": [
    {
     "name": "stderr",
     "output_type": "stream",
     "text": [
      "C:\\Users\\Amit\\Anaconda3\\lib\\site-packages\\ipykernel_launcher.py:5: UserWarning: The semantics of the Keras 2 argument `steps_per_epoch` is not the same as the Keras 1 argument `samples_per_epoch`. `steps_per_epoch` is the number of batches to draw from the generator at each epoch. Basically steps_per_epoch = samples_per_epoch/batch_size. Similarly `nb_val_samples`->`validation_steps` and `val_samples`->`steps` arguments have changed. Update your method calls accordingly.\n",
      "  \"\"\"\n",
      "C:\\Users\\Amit\\Anaconda3\\lib\\site-packages\\ipykernel_launcher.py:5: UserWarning: Update your `fit_generator` call to the Keras 2 API: `fit_generator(<keras.pre..., steps_per_epoch=250, validation_data=<keras.pre..., validation_steps=63, epochs=25)`\n",
      "  \"\"\"\n"
     ]
    },
    {
     "name": "stdout",
     "output_type": "stream",
     "text": [
      "WARNING:tensorflow:From C:\\Users\\Amit\\Anaconda3\\lib\\site-packages\\keras\\backend\\tensorflow_backend.py:422: The name tf.global_variables is deprecated. Please use tf.compat.v1.global_variables instead.\n",
      "\n",
      "Epoch 1/25\n",
      "250/250 [==============================] - 22s 88ms/step - loss: 0.6589 - accuracy: 0.6030 - val_loss: 0.5069 - val_accuracy: 0.6920\n",
      "Epoch 2/25\n",
      "250/250 [==============================] - 21s 83ms/step - loss: 0.5250 - accuracy: 0.7360 - val_loss: 0.3480 - val_accuracy: 0.8497\n",
      "Epoch 3/25\n",
      "250/250 [==============================] - 21s 83ms/step - loss: 0.3007 - accuracy: 0.8815 - val_loss: 0.2173 - val_accuracy: 0.9191\n",
      "Epoch 4/25\n",
      "250/250 [==============================] - 21s 84ms/step - loss: 0.2309 - accuracy: 0.9122 - val_loss: 0.1955 - val_accuracy: 0.9206\n",
      "Epoch 5/25\n",
      "250/250 [==============================] - 21s 83ms/step - loss: 0.2243 - accuracy: 0.9129 - val_loss: 0.1060 - val_accuracy: 0.9335\n",
      "Epoch 6/25\n",
      "250/250 [==============================] - 21s 84ms/step - loss: 0.2186 - accuracy: 0.9210 - val_loss: 0.2183 - val_accuracy: 0.9301\n",
      "Epoch 7/25\n",
      "250/250 [==============================] - 20s 81ms/step - loss: 0.2010 - accuracy: 0.9339 - val_loss: 0.1564 - val_accuracy: 0.9484\n",
      "Epoch 8/25\n",
      "250/250 [==============================] - 20s 78ms/step - loss: 0.1930 - accuracy: 0.9327 - val_loss: 0.2856 - val_accuracy: 0.9454\n",
      "Epoch 9/25\n",
      "250/250 [==============================] - 19s 76ms/step - loss: 0.1943 - accuracy: 0.9382 - val_loss: 0.1108 - val_accuracy: 0.9479\n",
      "Epoch 10/25\n",
      "250/250 [==============================] - 19s 76ms/step - loss: 0.1798 - accuracy: 0.9384 - val_loss: 0.0978 - val_accuracy: 0.9494\n",
      "Epoch 11/25\n",
      "250/250 [==============================] - 20s 81ms/step - loss: 0.1695 - accuracy: 0.9464 - val_loss: 0.2017 - val_accuracy: 0.9484\n",
      "Epoch 12/25\n",
      "250/250 [==============================] - 21s 85ms/step - loss: 0.1746 - accuracy: 0.9401 - val_loss: 0.0741 - val_accuracy: 0.9479\n",
      "Epoch 13/25\n",
      "250/250 [==============================] - 22s 87ms/step - loss: 0.1718 - accuracy: 0.9459 - val_loss: 0.1379 - val_accuracy: 0.9539\n",
      "Epoch 14/25\n",
      "250/250 [==============================] - 21s 83ms/step - loss: 0.1629 - accuracy: 0.9469 - val_loss: 0.0371 - val_accuracy: 0.9553\n",
      "Epoch 15/25\n",
      "250/250 [==============================] - 18s 74ms/step - loss: 0.1639 - accuracy: 0.9438 - val_loss: 0.1784 - val_accuracy: 0.9628\n",
      "Epoch 16/25\n",
      "250/250 [==============================] - 19s 77ms/step - loss: 0.1515 - accuracy: 0.9506 - val_loss: 0.0333 - val_accuracy: 0.9494\n",
      "Epoch 17/25\n",
      "250/250 [==============================] - 18s 72ms/step - loss: 0.1486 - accuracy: 0.9492 - val_loss: 0.1710 - val_accuracy: 0.9588\n",
      "Epoch 18/25\n",
      "250/250 [==============================] - 20s 82ms/step - loss: 0.1441 - accuracy: 0.9513 - val_loss: 0.4305 - val_accuracy: 0.9554\n",
      "Epoch 19/25\n",
      "250/250 [==============================] - 21s 83ms/step - loss: 0.1366 - accuracy: 0.9540 - val_loss: 0.0358 - val_accuracy: 0.9529\n",
      "Epoch 20/25\n",
      "250/250 [==============================] - 21s 83ms/step - loss: 0.1424 - accuracy: 0.9520 - val_loss: 0.1244 - val_accuracy: 0.9598\n",
      "Epoch 21/25\n",
      "250/250 [==============================] - 20s 81ms/step - loss: 0.1495 - accuracy: 0.9507 - val_loss: 0.1401 - val_accuracy: 0.9618\n",
      "Epoch 22/25\n",
      "250/250 [==============================] - 18s 73ms/step - loss: 0.1420 - accuracy: 0.9550 - val_loss: 0.2254 - val_accuracy: 0.9519\n",
      "Epoch 23/25\n",
      "250/250 [==============================] - 21s 83ms/step - loss: 0.1300 - accuracy: 0.9570 - val_loss: 0.1377 - val_accuracy: 0.9544\n",
      "Epoch 24/25\n",
      "250/250 [==============================] - 20s 82ms/step - loss: 0.1315 - accuracy: 0.9540 - val_loss: 0.0497 - val_accuracy: 0.9583\n",
      "Epoch 25/25\n",
      "250/250 [==============================] - 21s 82ms/step - loss: 0.1319 - accuracy: 0.9556 - val_loss: 0.1701 - val_accuracy: 0.9559\n"
     ]
    },
    {
     "data": {
      "text/plain": [
       "<keras.callbacks.callbacks.History at 0x1d52cfec438>"
      ]
     },
     "execution_count": 14,
     "metadata": {},
     "output_type": "execute_result"
    }
   ],
   "source": [
    "classifier.fit_generator(training_set,\n",
    "                         steps_per_epoch = 250,\n",
    "                         nb_epoch = 25,\n",
    "                         validation_data = test_set,\n",
    "                         validation_steps = 63)"
   ]
  },
  {
   "cell_type": "code",
   "execution_count": null,
   "metadata": {},
   "outputs": [],
   "source": []
  }
 ],
 "metadata": {
  "kernelspec": {
   "display_name": "Python 3",
   "language": "python",
   "name": "python3"
  },
  "language_info": {
   "codemirror_mode": {
    "name": "ipython",
    "version": 3
   },
   "file_extension": ".py",
   "mimetype": "text/x-python",
   "name": "python",
   "nbconvert_exporter": "python",
   "pygments_lexer": "ipython3",
   "version": "3.7.3"
  }
 },
 "nbformat": 4,
 "nbformat_minor": 2
}
