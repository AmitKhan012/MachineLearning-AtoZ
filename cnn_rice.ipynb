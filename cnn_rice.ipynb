{
 "cells": [
  {
   "cell_type": "code",
   "execution_count": 14,
   "metadata": {},
   "outputs": [],
   "source": [
    "from keras.models import Sequential\n",
    "#from keras.layers import Convolution2D\n",
    "from keras.layers import Conv2D\n",
    "from keras.layers import MaxPooling2D\n",
    "from keras.layers import Flatten\n",
    "from keras.layers import Dense"
   ]
  },
  {
   "cell_type": "code",
   "execution_count": 15,
   "metadata": {},
   "outputs": [],
   "source": [
    "classifier = Sequential()"
   ]
  },
  {
   "cell_type": "code",
   "execution_count": 16,
   "metadata": {},
   "outputs": [],
   "source": [
    "#classifier.add(Convolution2D(32, 3, 3, input_shape = (64, 64, 3), activation = 'relu'))\n",
    "classifier.add(Conv2D(32,( 3, 3), input_shape = (64, 64, 3), activation = 'relu'))"
   ]
  },
  {
   "cell_type": "code",
   "execution_count": 17,
   "metadata": {},
   "outputs": [],
   "source": [
    "classifier.add(MaxPooling2D(pool_size = (2, 2)))"
   ]
  },
  {
   "cell_type": "code",
   "execution_count": 18,
   "metadata": {},
   "outputs": [],
   "source": [
    "classifier.add(Conv2D(32,( 3, 3), activation = 'relu'))\n",
    "classifier.add(MaxPooling2D(pool_size = (2, 2)))"
   ]
  },
  {
   "cell_type": "code",
   "execution_count": 19,
   "metadata": {},
   "outputs": [],
   "source": [
    "classifier.add(Flatten())"
   ]
  },
  {
   "cell_type": "code",
   "execution_count": 20,
   "metadata": {},
   "outputs": [],
   "source": [
    "classifier.add(Dense(activation = 'relu', units = 128))\n",
    "classifier.add(Dense(activation = 'softmax', units = 4))"
   ]
  },
  {
   "cell_type": "code",
   "execution_count": 21,
   "metadata": {},
   "outputs": [],
   "source": [
    "classifier.compile(optimizer = 'adam', loss = 'binary_crossentropy', metrics = ['accuracy'])"
   ]
  },
  {
   "cell_type": "code",
   "execution_count": 22,
   "metadata": {},
   "outputs": [],
   "source": [
    "from keras.preprocessing.image import ImageDataGenerator"
   ]
  },
  {
   "cell_type": "code",
   "execution_count": 23,
   "metadata": {},
   "outputs": [],
   "source": [
    "train_datagen = ImageDataGenerator(\n",
    "                rescale = 1./255,\n",
    "                shear_range = 0.2,\n",
    "                zoom_range = 0.2,\n",
    "                horizontal_flip = True)"
   ]
  },
  {
   "cell_type": "code",
   "execution_count": 27,
   "metadata": {},
   "outputs": [
    {
     "name": "stdout",
     "output_type": "stream",
     "text": [
      "Found 1600 images belonging to 4 classes.\n"
     ]
    }
   ],
   "source": [
    "training_set = train_datagen.flow_from_directory('dataset2/RiceDiseaseDataset/train',\n",
    "                                                 target_size = (64, 64),\n",
    "                                                 batch_size = 32,\n",
    "                                                 class_mode = 'categorical')"
   ]
  },
  {
   "cell_type": "code",
   "execution_count": 28,
   "metadata": {},
   "outputs": [],
   "source": [
    "test_datagen = ImageDataGenerator(rescale = 1./255)"
   ]
  },
  {
   "cell_type": "code",
   "execution_count": 29,
   "metadata": {},
   "outputs": [
    {
     "name": "stdout",
     "output_type": "stream",
     "text": [
      "Found 492 images belonging to 4 classes.\n"
     ]
    }
   ],
   "source": [
    "test_set = test_datagen.flow_from_directory('dataset2/RiceDiseaseDataset/validation',\n",
    "                                            target_size = (64, 64),\n",
    "                                            batch_size = 32,\n",
    "                                            class_mode = 'categorical')"
   ]
  },
  {
   "cell_type": "code",
   "execution_count": 30,
   "metadata": {},
   "outputs": [
    {
     "name": "stderr",
     "output_type": "stream",
     "text": [
      "C:\\Users\\Amit\\Anaconda3\\lib\\site-packages\\ipykernel_launcher.py:5: UserWarning: The semantics of the Keras 2 argument `steps_per_epoch` is not the same as the Keras 1 argument `samples_per_epoch`. `steps_per_epoch` is the number of batches to draw from the generator at each epoch. Basically steps_per_epoch = samples_per_epoch/batch_size. Similarly `nb_val_samples`->`validation_steps` and `val_samples`->`steps` arguments have changed. Update your method calls accordingly.\n",
      "  \"\"\"\n",
      "C:\\Users\\Amit\\Anaconda3\\lib\\site-packages\\ipykernel_launcher.py:5: UserWarning: Update your `fit_generator` call to the Keras 2 API: `fit_generator(<keras.pre..., steps_per_epoch=50, validation_data=<keras.pre..., validation_steps=16, epochs=25)`\n",
      "  \"\"\"\n"
     ]
    },
    {
     "name": "stdout",
     "output_type": "stream",
     "text": [
      "WARNING:tensorflow:From C:\\Users\\Amit\\Anaconda3\\lib\\site-packages\\keras\\backend\\tensorflow_backend.py:422: The name tf.global_variables is deprecated. Please use tf.compat.v1.global_variables instead.\n",
      "\n",
      "Epoch 1/25\n",
      "50/50 [==============================] - 159s 3s/step - loss: 0.5697 - accuracy: 0.7461 - val_loss: 0.5623 - val_accuracy: 0.7500\n",
      "Epoch 2/25\n",
      "50/50 [==============================] - 136s 3s/step - loss: 0.5564 - accuracy: 0.7500 - val_loss: 0.5327 - val_accuracy: 0.7500\n",
      "Epoch 3/25\n",
      "50/50 [==============================] - 140s 3s/step - loss: 0.5448 - accuracy: 0.7491 - val_loss: 0.5696 - val_accuracy: 0.7500\n",
      "Epoch 4/25\n",
      "50/50 [==============================] - 135s 3s/step - loss: 0.5029 - accuracy: 0.7653 - val_loss: 0.4627 - val_accuracy: 0.7652\n",
      "Epoch 5/25\n",
      "50/50 [==============================] - 140s 3s/step - loss: 0.5016 - accuracy: 0.7664 - val_loss: 0.5696 - val_accuracy: 0.7668\n",
      "Epoch 6/25\n",
      "50/50 [==============================] - 134s 3s/step - loss: 0.4877 - accuracy: 0.7683 - val_loss: 0.4644 - val_accuracy: 0.7663\n",
      "Epoch 7/25\n",
      "50/50 [==============================] - 135s 3s/step - loss: 0.4848 - accuracy: 0.7731 - val_loss: 0.4686 - val_accuracy: 0.7668\n",
      "Epoch 8/25\n",
      "50/50 [==============================] - 142s 3s/step - loss: 0.4896 - accuracy: 0.7739 - val_loss: 0.4872 - val_accuracy: 0.7683\n",
      "Epoch 9/25\n",
      "50/50 [==============================] - 134s 3s/step - loss: 0.4662 - accuracy: 0.7769 - val_loss: 0.5154 - val_accuracy: 0.7729\n",
      "Epoch 10/25\n",
      "50/50 [==============================] - 135s 3s/step - loss: 0.4747 - accuracy: 0.7734 - val_loss: 0.4925 - val_accuracy: 0.7734\n",
      "Epoch 11/25\n",
      "50/50 [==============================] - 137s 3s/step - loss: 0.4683 - accuracy: 0.7772 - val_loss: 0.6074 - val_accuracy: 0.7612\n",
      "Epoch 12/25\n",
      "50/50 [==============================] - 139s 3s/step - loss: 0.4550 - accuracy: 0.7831 - val_loss: 0.4481 - val_accuracy: 0.7693\n",
      "Epoch 13/25\n",
      "50/50 [==============================] - 138s 3s/step - loss: 0.4525 - accuracy: 0.7812 - val_loss: 0.5324 - val_accuracy: 0.7576\n",
      "Epoch 14/25\n",
      "50/50 [==============================] - 150s 3s/step - loss: 0.4483 - accuracy: 0.7850 - val_loss: 0.4420 - val_accuracy: 0.7668\n",
      "Epoch 15/25\n",
      "50/50 [==============================] - 147s 3s/step - loss: 0.4453 - accuracy: 0.7867 - val_loss: 0.5342 - val_accuracy: 0.7576\n",
      "Epoch 16/25\n",
      "50/50 [==============================] - 139s 3s/step - loss: 0.4481 - accuracy: 0.7884 - val_loss: 0.5072 - val_accuracy: 0.7607\n",
      "Epoch 17/25\n",
      "50/50 [==============================] - 149s 3s/step - loss: 0.4371 - accuracy: 0.7898 - val_loss: 0.5312 - val_accuracy: 0.7663\n",
      "Epoch 18/25\n",
      "50/50 [==============================] - 138s 3s/step - loss: 0.4316 - accuracy: 0.7942 - val_loss: 0.5560 - val_accuracy: 0.7586\n",
      "Epoch 19/25\n",
      "50/50 [==============================] - 142s 3s/step - loss: 0.4254 - accuracy: 0.7987 - val_loss: 0.5018 - val_accuracy: 0.7622\n",
      "Epoch 20/25\n",
      "50/50 [==============================] - 150s 3s/step - loss: 0.4330 - accuracy: 0.7961 - val_loss: 0.5333 - val_accuracy: 0.7724\n",
      "Epoch 21/25\n",
      "50/50 [==============================] - 139s 3s/step - loss: 0.4221 - accuracy: 0.8023 - val_loss: 0.5481 - val_accuracy: 0.7576\n",
      "Epoch 22/25\n",
      "50/50 [==============================] - 138s 3s/step - loss: 0.4176 - accuracy: 0.8006 - val_loss: 0.4618 - val_accuracy: 0.7622\n",
      "Epoch 23/25\n",
      "50/50 [==============================] - 141s 3s/step - loss: 0.4192 - accuracy: 0.7989 - val_loss: 0.5446 - val_accuracy: 0.7688\n",
      "Epoch 24/25\n",
      "50/50 [==============================] - 139s 3s/step - loss: 0.4100 - accuracy: 0.8027 - val_loss: 0.4617 - val_accuracy: 0.7668\n",
      "Epoch 25/25\n",
      "50/50 [==============================] - 136s 3s/step - loss: 0.4064 - accuracy: 0.8072 - val_loss: 0.3633 - val_accuracy: 0.7642\n"
     ]
    },
    {
     "data": {
      "text/plain": [
       "<keras.callbacks.callbacks.History at 0x16e55af5780>"
      ]
     },
     "execution_count": 30,
     "metadata": {},
     "output_type": "execute_result"
    }
   ],
   "source": [
    "classifier.fit_generator(training_set,\n",
    "                         steps_per_epoch = 50,\n",
    "                         nb_epoch = 25,\n",
    "                         validation_data = test_set,\n",
    "                         validation_steps = 16)"
   ]
  },
  {
   "cell_type": "code",
   "execution_count": null,
   "metadata": {},
   "outputs": [],
   "source": []
  }
 ],
 "metadata": {
  "kernelspec": {
   "display_name": "Python 3",
   "language": "python",
   "name": "python3"
  },
  "language_info": {
   "codemirror_mode": {
    "name": "ipython",
    "version": 3
   },
   "file_extension": ".py",
   "mimetype": "text/x-python",
   "name": "python",
   "nbconvert_exporter": "python",
   "pygments_lexer": "ipython3",
   "version": "3.7.3"
  }
 },
 "nbformat": 4,
 "nbformat_minor": 2
}
